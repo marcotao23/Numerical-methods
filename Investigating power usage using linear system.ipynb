{
 "cells": [
  {
   "cell_type": "markdown",
   "metadata": {},
   "source": [
    "## Investigating power usage of devices using linear system"
   ]
  },
  {
   "cell_type": "markdown",
   "metadata": {},
   "source": [
    "### Problem set up\n",
    "\n",
    "For a electronic devices, we want to know how much power is being consumed by components on it. \n",
    "\n",
    "Given we know all components on the device and we did a group of tests that we measure how much power the entire device uses and the duration that each component was operating.\n",
    "\n"
   ]
  },
  {
   "cell_type": "markdown",
   "metadata": {},
   "source": [
    "Following are the components names, it is stored in a list called components"
   ]
  },
  {
   "cell_type": "code",
   "execution_count": 1,
   "metadata": {},
   "outputs": [],
   "source": [
    "components = ['Microphone', 'Screen', 'FPU', 'LED0', 'LED1', 'Converter', 'Speaker', 'Buzzer', 'Microchip0', 'Microchip1']\n"
   ]
  },
  {
   "cell_type": "markdown",
   "metadata": {},
   "source": [
    "Following are the tests results, it is stored in a dictionary called test_data\n",
    "\n",
    "Each test is stored as a python list of tuples. (e.g. [(‘LED0’, 0.58), (‘Screen’, 0.24), (‘PowerConsumed’, 1.2), …]). The tuple with first entry equal to ‘PowerConsumed’ is the power consumed by the device on that test. The other tuples tell you how much time each component was running for."
   ]
  },
  {
   "cell_type": "code",
   "execution_count": 2,
   "metadata": {},
   "outputs": [],
   "source": [
    "test_data = {'Test0': [('Screen', 0.5342568762168881), ('PowerConsumed', 2.676045552525002), ('Microchip0', 0.8964943328742967), ('Converter', 0.1938332112202742), ('Speaker', 0.6443640670908366), ('Microchip1', 0.97006104531088), ('LED1', 0.5913522995105425), ('Microphone', 0.00725704517928516), ('FPU', 0.5418959904567883), ('LED0', 0.17908068902655683), ('Buzzer', 0.5106526709720937)], 'Test1': [('FPU', 0.5281875784746554), ('Buzzer', 0.8817059712417699), ('LED1', 0.539620990994268), ('PowerConsumed', 2.491245746924849), ('Converter', 0.9938932180334874), ('LED0', 0.20748984594688336), ('Screen', 0.09343649555294364), ('Microphone', 0.21515885312695948), ('Microchip1', 0.2420279256349993), ('Microchip0', 0.5331043875263297), ('Speaker', 0.5644457125775587)], 'Test2': [('PowerConsumed', 3.13966851400112), ('Microchip1', 0.8411936058818686), ('Buzzer', 0.19507424681124141), ('Screen', 0.24464414715338723), ('FPU', 0.7136881438260492), ('LED1', 0.8709421588410867), ('Microphone', 0.3524103496402883), ('Speaker', 0.419330429183716), ('Converter', 0.4253774786532585), ('LED0', 0.953586770295989), ('Microchip0', 0.5783525310605437)], 'Test3': [('Speaker', 0.24718366211710652), ('Microphone', 0.999029849651671), ('Converter', 0.8473733620834591), ('LED0', 0.12425622929444635), ('Microchip0', 0.755308615857211), ('Screen', 0.5528470886199895), ('Buzzer', 0.42797936553152927), ('Microchip1', 0.8727647432561038), ('FPU', 0.13341087462439727), ('PowerConsumed', 2.4491566489446317), ('LED1', 0.737907741835054)], 'Test4': [('FPU', 0.9144457353278085), ('Microphone', 0.07973460781263841), ('Speaker', 0.5777182595872971), ('PowerConsumed', 2.448140262845129), ('Screen', 0.020801275809787523), ('Converter', 0.6720961127571077), ('LED0', 0.28744917477021636), ('Buzzer', 0.8013706267063441), ('LED1', 0.03186981337356054), ('Microchip0', 0.12356149882998757), ('Microchip1', 0.7104609365655284)], 'Test5': [('Converter', 0.4722872582675023), ('LED1', 0.9636076433478786), ('FPU', 0.2554914023432415), ('PowerConsumed', 2.654633978013594), ('Microphone', 0.8544355737239515), ('Microchip0', 0.4389274588185098), ('Speaker', 0.06977735945416974), ('Screen', 0.9784457921705498), ('LED0', 0.1676989338812639), ('Microchip1', 0.726085990772652), ('Buzzer', 0.6779914487389462)], 'Test6': [('FPU', 0.8234331054272988), ('Screen', 0.16222584460111156), ('Microchip0', 0.5199708077177779), ('Microchip1', 0.5280383600270032), ('PowerConsumed', 2.7951502140494773), ('Converter', 0.3930872113422039), ('Buzzer', 0.3414287588114693), ('LED1', 0.889826944873192), ('Microphone', 0.12552274142958197), ('Speaker', 0.0068954163085431786), ('LED0', 0.8078324158206509)], 'Test7': [('Buzzer', 0.2673472269933731), ('Converter', 0.13206139805277006), ('LED1', 0.7008294368072818), ('Microchip0', 0.04888287203642949), ('Microchip1', 0.17675340024072206), ('FPU', 0.5968770075906864), ('Microphone', 0.6098759979714496), ('Screen', 0.5580024043586256), ('Speaker', 0.44329298143566054), ('LED0', 0.179257653227621), ('PowerConsumed', 1.9796991018243961)], 'Test8': [('LED1', 0.9347915732350583), ('Speaker', 0.28430242126897753), ('Microchip0', 0.41134093123351867), ('PowerConsumed', 2.5633833797623793), ('FPU', 0.44668136227165633), ('Screen', 0.34789388458224324), ('Converter', 0.634950073601974), ('LED0', 0.9734471069197458), ('Buzzer', 0.1312310155297306), ('Microchip1', 0.07922682716085194), ('Microphone', 0.8112212330583289)], 'Test9': [('Buzzer', 0.3333099102749275), ('LED0', 0.3227349547223135), ('Microphone', 0.4654236071551022), ('PowerConsumed', 2.5064467561881187), ('LED1', 0.5633756992030015), ('Microchip1', 0.1410069902878166), ('FPU', 0.8930385136850465), ('Microchip0', 0.02398704299557375), ('Converter', 0.6429522235097408), ('Speaker', 0.7109323842342717), ('Screen', 0.9062494172758141)]}\n"
   ]
  },
  {
   "cell_type": "markdown",
   "metadata": {},
   "source": [
    "### Perform calculation to get power usage for each component"
   ]
  },
  {
   "cell_type": "code",
   "execution_count": 3,
   "metadata": {},
   "outputs": [
    {
     "name": "stdout",
     "output_type": "stream",
     "text": [
      "number of tests is 10\n",
      "number of components is 10\n"
     ]
    }
   ],
   "source": [
    "import numpy as np\n",
    "import numpy.linalg as nla\n",
    "\n",
    "number_tests = len(test_data)\n",
    "number_components = len(components)\n",
    "\n",
    "print('number of tests is %i' %number_tests )\n",
    "print('number of components is %i' %number_components )\n"
   ]
  },
  {
   "cell_type": "markdown",
   "metadata": {},
   "source": [
    "<br>\n",
    "Construct linear system Ax = b\n"
   ]
  },
  {
   "cell_type": "code",
   "execution_count": 4,
   "metadata": {},
   "outputs": [],
   "source": [
    "#Construct A\n",
    "#create A array with number_tests rows and number_components coloums\n",
    "A = np.zeros((number_tests,number_components))\n",
    "test_count = 0"
   ]
  },
  {
   "cell_type": "code",
   "execution_count": 5,
   "metadata": {},
   "outputs": [],
   "source": [
    "#Construct b\n",
    "b = np.zeros(number_tests)"
   ]
  },
  {
   "cell_type": "markdown",
   "metadata": {},
   "source": [
    "<br>\n",
    "Put values into A and b"
   ]
  },
  {
   "cell_type": "code",
   "execution_count": 6,
   "metadata": {},
   "outputs": [],
   "source": [
    "#implement A and b\n",
    "for test in test_data:\n",
    "    #find a list of test result for one test, starting from test_count = 0 all the way to 9\n",
    "    test_list = test_data[test]\n",
    "    #find the corresponding component in the list and put its value into a row of A\n",
    "    for i in range(0,len(test_list)):\n",
    "        #The name is always the 0 element in that tuple\n",
    "        curr_comp = test_list[i][0]\n",
    "        for j in range(0,len(components)):\n",
    "            #match it to components\n",
    "            if curr_comp == components[j]:\n",
    "            #put it into array, the value is always the 1 element in that tuple\n",
    "                A[test_count][j] = test_list[i][1]\n",
    "            if curr_comp == 'PowerConsumed':\n",
    "                b[test_count] = test_list[i][1]\n",
    "    test_count += 1"
   ]
  },
  {
   "cell_type": "code",
   "execution_count": 7,
   "metadata": {},
   "outputs": [
    {
     "name": "stdout",
     "output_type": "stream",
     "text": [
      "[[0.00725705 0.53425688 0.54189599 0.17908069 0.5913523  0.19383321\n",
      "  0.64436407 0.51065267 0.89649433 0.97006105]\n",
      " [0.21515885 0.0934365  0.52818758 0.20748985 0.53962099 0.99389322\n",
      "  0.56444571 0.88170597 0.53310439 0.24202793]\n",
      " [0.35241035 0.24464415 0.71368814 0.95358677 0.87094216 0.42537748\n",
      "  0.41933043 0.19507425 0.57835253 0.84119361]\n",
      " [0.99902985 0.55284709 0.13341087 0.12425623 0.73790774 0.84737336\n",
      "  0.24718366 0.42797937 0.75530862 0.87276474]\n",
      " [0.07973461 0.02080128 0.91444574 0.28744917 0.03186981 0.67209611\n",
      "  0.57771826 0.80137063 0.1235615  0.71046094]\n",
      " [0.85443557 0.97844579 0.2554914  0.16769893 0.96360764 0.47228726\n",
      "  0.06977736 0.67799145 0.43892746 0.72608599]\n",
      " [0.12552274 0.16222584 0.82343311 0.80783242 0.88982694 0.39308721\n",
      "  0.00689542 0.34142876 0.51997081 0.52803836]\n",
      " [0.609876   0.5580024  0.59687701 0.17925765 0.70082944 0.1320614\n",
      "  0.44329298 0.26734723 0.04888287 0.1767534 ]\n",
      " [0.81122123 0.34789388 0.44668136 0.97344711 0.93479157 0.63495007\n",
      "  0.28430242 0.13123102 0.41134093 0.07922683]\n",
      " [0.46542361 0.90624942 0.89303851 0.32273495 0.5633757  0.64295222\n",
      "  0.71093238 0.33330991 0.02398704 0.14100699]]\n"
     ]
    }
   ],
   "source": [
    "print (A)"
   ]
  },
  {
   "cell_type": "code",
   "execution_count": 8,
   "metadata": {},
   "outputs": [
    {
     "name": "stdout",
     "output_type": "stream",
     "text": [
      "[2.67604555 2.49124575 3.13966851 2.44915665 2.44814026 2.65463398\n",
      " 2.79515021 1.9796991  2.56338338 2.50644676]\n"
     ]
    }
   ],
   "source": [
    "print(b)"
   ]
  },
  {
   "cell_type": "markdown",
   "metadata": {},
   "source": [
    "<br>\n",
    "<br>\n",
    "Find  x, which gives the power usage for each component "
   ]
  },
  {
   "cell_type": "code",
   "execution_count": 11,
   "metadata": {},
   "outputs": [],
   "source": [
    "x = nla.solve(A,b)"
   ]
  },
  {
   "cell_type": "markdown",
   "metadata": {},
   "source": [
    "<br>"
   ]
  },
  {
   "cell_type": "markdown",
   "metadata": {},
   "source": [
    "Let's see the result"
   ]
  },
  {
   "cell_type": "code",
   "execution_count": 15,
   "metadata": {},
   "outputs": [
    {
     "data": {
      "text/plain": [
       "<BarContainer object of 10 artists>"
      ]
     },
     "execution_count": 15,
     "metadata": {},
     "output_type": "execute_result"
    },
    {
     "data": {
      "image/png": "[encoded data removed]",
      "text/plain": [
       "<Figure size 432x288 with 1 Axes>"
      ]
     },
     "metadata": {},
     "output_type": "display_data"
    }
   ],
   "source": [
    "import matplotlib.pyplot as plt\n",
    "\n",
    "plt.bar(components,x,width=0.5)"
   ]
  },
  {
   "cell_type": "code",
   "execution_count": null,
   "metadata": {},
   "outputs": [],
   "source": []
  }
 ],
 "metadata": {
  "kernelspec": {
   "display_name": "Python 3",
   "language": "python",
   "name": "python3"
  },
  "language_info": {
   "codemirror_mode": {
    "name": "ipython",
    "version": 3
   },
   "file_extension": ".py",
   "mimetype": "text/x-python",
   "name": "python",
   "nbconvert_exporter": "python",
   "pygments_lexer": "ipython3",
   "version": "3.6.5"
  }
 },
 "nbformat": 4,
 "nbformat_minor": 2
}
