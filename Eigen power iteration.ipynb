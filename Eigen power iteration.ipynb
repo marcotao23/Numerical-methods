{
 "cells": [
  {
   "cell_type": "markdown",
   "metadata": {},
   "source": [
    "## Normalized Power Iteration and Normalized Inverse Power Iteration\n",
    "\n",
    "## Relationship between the speed of convergence and the ratio of the eigenvalues"
   ]
  },
  {
   "cell_type": "markdown",
   "metadata": {},
   "source": [
    "<br>\n",
    "<br>\n",
    "- $As$ is an array of $n$ 2×2 matrices (default $n = 20$). Use both normalized power iteration and normalized inverse power iteration to figure out the eigenvalues and eigenvectors of each matrix in $As$, and then we will look at the factor which influences the convergence rate of power iteration."
   ]
  },
  {
   "cell_type": "code",
   "execution_count": 29,
   "metadata": {},
   "outputs": [],
   "source": [
    "#set up\n",
    "import numpy as np\n",
    "n = 20\n",
    "As = np.zeros((n,2,2))\n",
    "for i in range(n):\n",
    "    randA = np.random.randint(10,size=(2,2))\n",
    "    As[i] = randA"
   ]
  },
  {
   "cell_type": "markdown",
   "metadata": {},
   "source": [
    "<br>\n",
    "<br>\n",
    "For each 2×2 matrix (for simplicity, call it $A$) :\n",
    "- Implement Normalized Power Iteration.\n",
    "    \n",
    "   run it on $A$. Use the following vector as your initial guess $x_0$:\n",
    "   $(\\frac{1}{/\\sqrt{2}},\\frac{1}{/\\sqrt{2}})$\n",
    "   \n",
    "   Let $x_k$ be the vector obtained in the $k$th round of normalized power iteration. Stop the iteration if $x$ has stopped changing: \n",
    "$∥x_{k+1} − x∥_2 < 10^{12}$\n",
    "Use the 2-norm to normalize."
   ]
  },
  {
   "cell_type": "markdown",
   "metadata": {},
   "source": [
    "Figure out the significant eigenvalue and its corresponding eigenvector of matrix $A$ using the final $x$ and $A$. Save them separately as an entry in $eigenval1$ and $eigenvec1$. In addition, record the number of rounds of power iteration as an entry in $cnt$."
   ]
  },
  {
   "cell_type": "code",
   "execution_count": 30,
   "metadata": {},
   "outputs": [],
   "source": [
    "import numpy.linalg as nla\n",
    "#set up\n",
    "eigenval1 = np.zeros(n)\n",
    "eigenvec1 = np.zeros((n,2))\n",
    "cnt = np.zeros(n)"
   ]
  },
  {
   "cell_type": "code",
   "execution_count": 31,
   "metadata": {},
   "outputs": [
    {
     "name": "stdout",
     "output_type": "stream",
     "text": [
      "greatest eigenvalues for matrices in As:\n",
      "[ 8.56776436  6.          7.90832691  8.31662479 10.51387819 13.14142843\n",
      "  5.37228132  8.         11.40312424 11.88152731 10.77200187  6.87298335\n",
      " 10.58257569  8.         14.86545993  9.37228132 10.56155281 11.65891053\n",
      "  7.         13.        ]\n",
      "number of rounds for normalized power iteration to stop of each matrix given error less than 1e-12:\n",
      "[24. 17. 27. 17. 75. 12. 11. 20. 14. 31. 18. 14. 14. 21.  7. 27. 52. 19.\n",
      " 22.  1.]\n"
     ]
    }
   ],
   "source": [
    "#Part 1\n",
    "for i in range(0,n):\n",
    "    A = As[i]\n",
    "    x0 = np.array([1/np.sqrt(2),1/np.sqrt(2)])\n",
    "    x = x0/nla.norm(x0)\n",
    "    norm = 0\n",
    "    count = 0\n",
    "    diff = 1\n",
    "    while diff>1e-12 and count<1000:\n",
    "        xnew = A @ x\n",
    "        norm = nla.norm(xnew)\n",
    "        xnew = xnew/norm\n",
    "        diff = nla.norm(xnew - x)\n",
    "        #print(diff)\n",
    "        x = xnew\n",
    "        count += 1\n",
    "    eigenval1[i] = norm\n",
    "    eigenvec1[i][0] = x[0]\n",
    "    eigenvec1[i][1] = x[1]\n",
    "    cnt[i] = count\n",
    "print ('greatest eigenvalues for matrices in As:')\n",
    "print (eigenval1)\n",
    "print ('number of rounds for normalized power iteration to stop of each matrix given error less than 1e-12:')\n",
    "print (cnt)"
   ]
  },
  {
   "cell_type": "markdown",
   "metadata": {},
   "source": [
    "<br>\n",
    "<br>\n",
    "- Implement (2-Norm Normalized) Inverse Power Iteration\n",
    "\n",
    "  run it on $A$ and use the same initial guess and stopping condition. For efficiency use LU-factorisation instead of inv()\n",
    "\n",
    "  Find the smallest eigenvalue with respect to absolute value and its corresponding eigenvector. Save them separately as an entry in $eigenval2$ and $eigenvec2$"
   ]
  },
  {
   "cell_type": "code",
   "execution_count": 32,
   "metadata": {},
   "outputs": [],
   "source": [
    "#set up\n",
    "import scipy.linalg as sla\n",
    "eigenval2 = np.zeros(n)\n",
    "eigenvec2 = np.zeros((n,2))"
   ]
  },
  {
   "cell_type": "code",
   "execution_count": 33,
   "metadata": {},
   "outputs": [
    {
     "name": "stdout",
     "output_type": "stream",
     "text": [
      "smallest eigenvalues for matrices in As:\n",
      "[ 2.56776436  1.          2.90832691  1.68337521  7.51387819  1.14142843\n",
      "  0.37228132  2.          1.40312424  4.88152731  2.22799813  0.87298335\n",
      "  1.41742431  2.          0.13454007  3.62771868  6.43844719  2.65891053\n",
      "  2.         13.        ]\n"
     ]
    }
   ],
   "source": [
    "#part2\n",
    "for i in range(0,n):\n",
    "    #print('start for matrix %i' %i)\n",
    "    A = As[i]\n",
    "    x0 = np.array([1/np.sqrt(2),1/np.sqrt(2)])\n",
    "    x = x0/nla.norm(x0)\n",
    "    P,L,U = sla.lu(A)\n",
    "    norm = 0\n",
    "    count = 0\n",
    "    diff = 1\n",
    "    \n",
    "    while diff>1e-12 and count<1000:\n",
    "        y = sla.solve_triangular(L, np.dot(P.T, x), lower=True)\n",
    "        xnew = sla.solve_triangular(U, y)\n",
    "        norm = nla.norm(xnew)\n",
    "        xnew = xnew/norm\n",
    "        diff = nla.norm(xnew - x)\n",
    "        #print(diff)\n",
    "        x = xnew\n",
    "        count += 1\n",
    "    eigenval2[i] = 1/norm\n",
    "    eigenvec2[i][0] = x[0]\n",
    "    eigenvec2[i][1] = x[1]\n",
    "print ('smallest eigenvalues for matrices in As:')\n",
    "print (eigenval2)"
   ]
  },
  {
   "cell_type": "markdown",
   "metadata": {},
   "source": [
    "<br>\n",
    "<br>\n",
    "- Relationship between the speed of convergence and the ratio of the eigenvalues\n",
    "  \n",
    "  Plot the graph of $\\frac{|\\lambda_2|}{|\\lambda_1|}$ Vs $cnt$   ($\\lambda_1$ is the most significant eigenvalue of the matrix, and the $\\lambda_2$ is the smaller one)."
   ]
  },
  {
   "cell_type": "code",
   "execution_count": 36,
   "metadata": {},
   "outputs": [
    {
     "data": {
      "image/png": "[encoded data removed]",
      "text/plain": [
       "<Figure size 432x288 with 1 Axes>"
      ]
     },
     "metadata": {},
     "output_type": "display_data"
    }
   ],
   "source": [
    "#Part3 Plot\n",
    "import matplotlib.pyplot as plt\n",
    "\n",
    "plt.figure(1)\n",
    "plt.plot(np.abs(eigenval2)/np.abs(eigenval1),cnt,'.')\n",
    "plt.xlabel('smallest eigenval / greatest eigenval')\n",
    "plt.ylabel('speed of convergence')\n",
    "plt.title('ratio of the eigenvalues vs speed of convergence')\n",
    "plt.show()"
   ]
  }
 ],
 "metadata": {
  "kernelspec": {
   "display_name": "Python 3",
   "language": "python",
   "name": "python3"
  },
  "language_info": {
   "codemirror_mode": {
    "name": "ipython",
    "version": 3
   },
   "file_extension": ".py",
   "mimetype": "text/x-python",
   "name": "python",
   "nbconvert_exporter": "python",
   "pygments_lexer": "ipython3",
   "version": "3.6.5"
  }
 },
 "nbformat": 4,
 "nbformat_minor": 2
}
