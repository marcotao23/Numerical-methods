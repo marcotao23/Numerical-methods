{
 "cells": [
  {
   "cell_type": "markdown",
   "metadata": {},
   "source": [
    "# Pricing European Option with Black Scholes Model using Monte Carlo Simulation \n",
    "$~$\n",
    "$~$\n",
    "$~$"
   ]
  },
  {
   "cell_type": "markdown",
   "metadata": {},
   "source": [
    "## Intro\n",
    "\n",
    "European Option could be only exercised at expiry date $T$\n",
    "\n",
    "- Call options give the right to buy at strike price. Given the asset price at maturity $S_T$ and strike price $K$, it has payoff: \n",
    "\n",
    "> $C_T = max(0,S_T - K)$\n",
    "\n",
    "- Put options give the right to sell at strike price. Similarly, it has payoff:\n",
    "\n",
    "> $P_T = max(0,K - S_T)$\n",
    "\n",
    "<br>\n"
   ]
  },
  {
   "cell_type": "markdown",
   "metadata": {},
   "source": [
    "#### Example of payoffs of call option and put option at strike price $50"
   ]
  },
  {
   "cell_type": "code",
   "execution_count": 19,
   "metadata": {},
   "outputs": [
    {
     "data": {
      "image/png": "[encoded data removed]",
      "text/plain": [
       "<Figure size 432x288 with 2 Axes>"
      ]
     },
     "metadata": {},
     "output_type": "display_data"
    }
   ],
   "source": [
    "import numpy as np\n",
    "import matplotlib.pyplot as plt\n",
    "\n",
    "#call = lambda S: np.maximum(0, S - 50)\n",
    "def call(S):\n",
    "    return np.maximum(0,S-50)\n",
    "#put = lambda S: np.maximum(0, 50 - S)\n",
    "def put(S):\n",
    "    return np.maximum(0,50-S)\n",
    "\n",
    "n = np.asarray(range(0,100))\n",
    "\n",
    "payofffig = plt.figure(1)\n",
    "#call\n",
    "plt.subplot(1, 2, 1)\n",
    "f1 = plt.plot(n,call(n),'-')\n",
    "plt.title('call option payoff')\n",
    "plt.xlabel('Price at Maturity')\n",
    "plt.ylabel('payoff')\n",
    "\n",
    "#put\n",
    "plt.subplot(1, 2, 2)\n",
    "f2 = plt.plot(n,put(n),'-')\n",
    "plt.title('put option payoff')\n",
    "plt.xlabel('Price at Maturity')\n",
    "plt.ylabel('payoff')\n",
    "\n",
    "plt.tight_layout()"
   ]
  },
  {
   "cell_type": "markdown",
   "metadata": {},
   "source": [
    "***"
   ]
  },
  {
   "cell_type": "markdown",
   "metadata": {},
   "source": [
    "\n",
    "## Risk-neutral Valuation\n",
    "\n",
    "By risk-neutral valuation, we assume the fair price of the option is the payoff at the expiry date, and the asset will earn risk free interest rate $r$.\n",
    "Then for any time $t$ before expiry time $T$, we have remainnig time $T-t$. We could express the present value of our option by:\n",
    "> $C_t = E(max(0,S_T - K))$\n",
    "<br>\n",
    "> $P_t = E(max(0,K - S_T))$\n",
    "<br>"
   ]
  },
  {
   "cell_type": "markdown",
   "metadata": {},
   "source": [
    "By applying a model on the compound interest rate r, we have $S_T =e^{rT} S_{T-1}$, which means $S_T = S_0 e^{rT}$. Then we could update our present value of options:\n",
    "> $C_t = e^{-r(T-t)}E(max(0,S_T - K))$ \n",
    "<br>\n",
    "> $P_t = e^{-r(T-t)}E(max(0,K - S_T))$ \n",
    "<br>"
   ]
  },
  {
   "cell_type": "markdown",
   "metadata": {},
   "source": [
    "In the expressions above, all variables are known except $S_T$, which will be simulated below.\n",
    "<br>\n",
    "***"
   ]
  },
  {
   "cell_type": "markdown",
   "metadata": {},
   "source": [
    "## Simulating Asset Prices"
   ]
  },
  {
   "cell_type": "markdown",
   "metadata": {},
   "source": [
    "Assume we have given volatility $\\sigma$, risk free interest rate $r$, and the price of asset follows Brownian Motion.\n",
    "<br>\n",
    "As stock prices evolve over time, with a magnitude dependent on their volatility. The Black Scholes model treats this evolution in terms of a random walk (a sequence of increments/decrements).\n",
    "A $T-t$ step random walk is distributed as a random variable in the normal distribution with mean $0$ and variance $\\sigma^2(T-t)$, denoted $X = \\mathcal{N}(0,\\sigma^2(T-t))$. Its compounded effect on the stock price follows a log-normal distribution $e^X$\n",
    "<br>\n",
    "So the expected value is given by: \n",
    "\n",
    "> $E[Y] = S_0e^{r(T-t)+X}$\n",
    "\n",
    "The Black-Scholes model predicts the stock price using the median of the log-normal distribution:\n",
    "\n",
    "> $S_T = S_t e^{(r-0.5\\sigma^2)(T-t)}$\n",
    "\n",
    "And geometric brownian motion gives:\n",
    "\n",
    "> $S_T = S_t e^{(r-0.5\\sigma^2)(T-t)+\\epsilon}$\n",
    "\n",
    "where $\\epsilon$ is a random value sampled from $\\mathcal{N}(0,\\sigma^2(T-t))$"
   ]
  },
  {
   "cell_type": "markdown",
   "metadata": {},
   "source": [
    "In the equation above:\n",
    "<br>\n",
    "> $\\sigma$ is the volatility, or standard deviation on returns.\n",
    "<br>\n",
    "$T-t$ is the annualised time remainning.(30 days = 30/365)\n",
    "<br>\n",
    "$r$ is the risk free interest rate\n",
    "<br>\n",
    "$S_t$ is the price of asset at time t\n",
    "<br>\n",
    "$S_T$ is the predicted price of asset at maturity\n",
    "<br>\n",
    "$\\epsilon$ is random value with standart normal distribution"
   ]
  },
  {
   "cell_type": "markdown",
   "metadata": {},
   "source": [
    "***\n",
    "## Pricing options using Monte Carlo\n",
    "\n",
    "We could generate many $S_T$ and calculate payoffs and average them\n",
    "<br>\n",
    "<br>\n",
    "The following code uses data from a call option on Google, GOOG181123C01075000. It has an implied volatility of 37.26%, strike price 1,075.00 which expires on 2018-11-23. It has last price 60.35. Google has a current price 1,103.69.\n",
    "<br>\n",
    "Today's date is 2018-10-23GOOG181123C01075000\n",
    "<br>\n",
    "$r$ is approximated by USD LIBOR 1-month rat, around 2.28650% / 12\n",
    "<br>\n",
    "<br>\n",
    "let $S_0,r,sigma,t$ stands for initial price, interest rate, volatility, and time interval respectively, function St(S0, r, sigma, t) returns $S_T$"
   ]
  },
  {
   "cell_type": "code",
   "execution_count": 20,
   "metadata": {},
   "outputs": [],
   "source": [
    "import datetime\n",
    "S0 = 1103.69\n",
    "K = 1075\n",
    "r = 2.28650/100/12\n",
    "sigma = 0.3726\n",
    "t = (datetime.date(2018,11,23) - datetime.date(2018,10,23)).days / 365.0"
   ]
  },
  {
   "cell_type": "code",
   "execution_count": 21,
   "metadata": {},
   "outputs": [],
   "source": [
    "import math\n",
    "\n",
    "def St(S0, r, sigma, t):\n",
    "    epsilon = np.random.normal(0,(math.sqrt(t*sigma**2)))\n",
    "    St = S0 * math.e**((r - (sigma**2)/2) * t + epsilon)\n",
    "    return St"
   ]
  },
  {
   "cell_type": "markdown",
   "metadata": {},
   "source": [
    "Function call_payout(S_T, K) and put_payout(S_T, K) returns the payoffs of given generated price"
   ]
  },
  {
   "cell_type": "code",
   "execution_count": 22,
   "metadata": {},
   "outputs": [],
   "source": [
    "def call_payout(S_T, K):\n",
    "    return max(S_T - K, 0.0)\n",
    "def put_payout(S_T, K):\n",
    "    return max(K - S_T, 0.0)"
   ]
  },
  {
   "cell_type": "markdown",
   "metadata": {},
   "source": [
    "Function calc_payout(S, sigma, r, T, K) returns payout for call option"
   ]
  },
  {
   "cell_type": "code",
   "execution_count": 23,
   "metadata": {},
   "outputs": [],
   "source": [
    "def calc_payout(S, sigma, r, T, K):\n",
    "    S_t = St(S, sigma, r, T)\n",
    "    payout = call_payout(S_t,K)\n",
    "    return payout"
   ]
  },
  {
   "cell_type": "markdown",
   "metadata": {},
   "source": [
    "Monte Carlo"
   ]
  },
  {
   "cell_type": "code",
   "execution_count": 24,
   "metadata": {},
   "outputs": [
    {
     "name": "stdout",
     "output_type": "stream",
     "text": [
      "64.16305864348027\n"
     ]
    }
   ],
   "source": [
    "Payout_list = []\n",
    "\n",
    "for i in range(0,50000):\n",
    "    Payout_list.append(calc_payout(S0,sigma,r,t,K))\n",
    "\n",
    "Payout_array = np.asarray(Payout_list)\n",
    "P_T = np.mean(Payout_array)\n",
    "discount_factor = math.e**(-r*t)\n",
    "price_now = discount_factor * P_T\n",
    "\n",
    "print (price_now)"
   ]
  },
  {
   "cell_type": "markdown",
   "metadata": {},
   "source": [
    "<br>\n",
    "Thus we see the pricing for the option is $64.16$, which is close to the last trade price $60.35$"
   ]
  },
  {
   "cell_type": "markdown",
   "metadata": {},
   "source": [
    "<img src=\"GOOG181123C01075000.jpg\">"
   ]
  },
  {
   "cell_type": "code",
   "execution_count": null,
   "metadata": {},
   "outputs": [],
   "source": []
  }
 ],
 "metadata": {
  "kernelspec": {
   "display_name": "Python 3",
   "language": "python",
   "name": "python3"
  },
  "language_info": {
   "codemirror_mode": {
    "name": "ipython",
    "version": 3
   },
   "file_extension": ".py",
   "mimetype": "text/x-python",
   "name": "python",
   "nbconvert_exporter": "python",
   "pygments_lexer": "ipython3",
   "version": "3.6.5"
  }
 },
 "nbformat": 4,
 "nbformat_minor": 2
}
