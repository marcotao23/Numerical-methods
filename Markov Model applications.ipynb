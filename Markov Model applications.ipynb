{
 "cells": [
  {
   "cell_type": "markdown",
   "metadata": {},
   "source": [
    "## Two examples of application of Markov Chain Model"
   ]
  },
  {
   "cell_type": "markdown",
   "metadata": {},
   "source": [
    "<br>\n",
    "<br>\n",
    "### Drug Metabolism\n",
    "\n",
    "Researchers are investigating a new drug ‘examenol’ and have discovered the following about its metabolization:\n",
    "- Each hour 10% of examenol changes to metabolite A and 10% changes to metabolite B. Another 10% is excreted.\n",
    "- Each hour 40% of metabolite A changes to metabolite B and 10% of metabolite A is excreted.\n",
    "- Each hour 10% of metabolite B changes to metabolite A and 10% of metabolite B is excreted.\n",
    "\n",
    "Determine the number of hours it takes for 95% of one dose of examenol to be excreted. At the beginning, 100% of the dose is in the examenol state."
   ]
  },
  {
   "cell_type": "markdown",
   "metadata": {},
   "source": [
    "<br>\n",
    "Step1.  Construct Markov model matrix M\n",
    "\n",
    "with cololums:\n",
    "\n",
    "Examenol ,  metabolite A ,  metabolite B ,  Excreted"
   ]
  },
  {
   "cell_type": "code",
   "execution_count": 1,
   "metadata": {},
   "outputs": [
    {
     "name": "stdout",
     "output_type": "stream",
     "text": [
      "[[0.7 0.  0.  0. ]\n",
      " [0.1 0.5 0.1 0. ]\n",
      " [0.1 0.4 0.8 0. ]\n",
      " [0.1 0.1 0.1 1. ]]\n"
     ]
    }
   ],
   "source": [
    "import numpy as np\n",
    "\n",
    "M = np.array([[0.7,0,0,0],[0.1,0.5,0.1,0],[0.1,0.4,0.8,0],[0.1,0.1,0.1,1]])\n",
    "print(M)"
   ]
  },
  {
   "cell_type": "markdown",
   "metadata": {},
   "source": [
    "<br>\n",
    "Step2.   Start with a dose with 100% examenol"
   ]
  },
  {
   "cell_type": "code",
   "execution_count": 2,
   "metadata": {},
   "outputs": [],
   "source": [
    "x = np.array([[1],[0],[0],[0]])"
   ]
  },
  {
   "cell_type": "markdown",
   "metadata": {},
   "source": [
    "<br>\n",
    "Step3.   Solve the linear system"
   ]
  },
  {
   "cell_type": "code",
   "execution_count": 3,
   "metadata": {},
   "outputs": [
    {
     "name": "stdout",
     "output_type": "stream",
     "text": [
      "hours needed: 29\n"
     ]
    }
   ],
   "source": [
    "hours = 0\n",
    "excreted = 0\n",
    "while excreted < 0.95:\n",
    "    x = M@x\n",
    "    excreted = x[3]\n",
    "    hours += 1\n",
    "print(\"hours needed: %i\" %hours)"
   ]
  },
  {
   "cell_type": "markdown",
   "metadata": {},
   "source": [
    "<br>\n",
    "<br>\n",
    "<br>\n",
    "### Traveling by Train"
   ]
  },
  {
   "cell_type": "markdown",
   "metadata": {},
   "source": [
    "There are five cities where you are interested in taking a vacation. Instead of deciding where to spend your time, you choose to let probability decide for you. You start off in city A, which has trains going to each of the other four cities. You ride a train at random, which brings you to another city. You keep going in this manner until you decide enough is enough, and stay in the last city you end up in. Assume the train routes are as follows:\n",
    "- City A has a train to all other cities\n",
    "- City B has trains to cities A and C\n",
    "- City C has trains to cities A and E\n",
    "- City D has trains to cities A, B, and C\n",
    "- City E has a train to city D\n",
    "You never stay in the same city until you are completely done riding trains. If you are equally likely to hop on any train leaving the city you are in, what is the probability of ending up in a particular city?"
   ]
  },
  {
   "cell_type": "markdown",
   "metadata": {},
   "source": [
    "Step 1.  Construct the Markov Chain model\n",
    "\n",
    "with coloums:\n",
    "\n",
    "A , B , C , D , E"
   ]
  },
  {
   "cell_type": "code",
   "execution_count": 5,
   "metadata": {},
   "outputs": [
    {
     "data": {
      "text/plain": [
       "array([[0.        , 0.5       , 0.5       , 0.33333333, 0.        ],\n",
       "       [0.25      , 0.        , 0.        , 0.33333333, 0.        ],\n",
       "       [0.25      , 0.5       , 0.        , 0.33333333, 0.        ],\n",
       "       [0.25      , 0.        , 0.        , 0.        , 1.        ],\n",
       "       [0.25      , 0.        , 0.5       , 0.        , 0.        ]])"
      ]
     },
     "execution_count": 5,
     "metadata": {},
     "output_type": "execute_result"
    }
   ],
   "source": [
    "import numpy as np\n",
    "\n",
    "mat = np.array([[0,0.5,0.5,1/3,0],[0.25,0,0,1/3,0],[0.25,0.5,0,1/3,0],[0.25,0,0,0,1],[0.25,0,0.5,0,0]])\n",
    "mat"
   ]
  },
  {
   "cell_type": "markdown",
   "metadata": {},
   "source": [
    "<br>\n",
    "Step 2. Starting point A"
   ]
  },
  {
   "cell_type": "code",
   "execution_count": 6,
   "metadata": {},
   "outputs": [],
   "source": [
    "x = np.array([1,0,0,0,0]).T"
   ]
  },
  {
   "cell_type": "markdown",
   "metadata": {},
   "source": [
    "<br>\n",
    "Step 3. Probability: [P(A), P(B), P(C), P(D), P(E)]"
   ]
  },
  {
   "cell_type": "code",
   "execution_count": 10,
   "metadata": {},
   "outputs": [
    {
     "name": "stdout",
     "output_type": "stream",
     "text": [
      "P(A) = 25.174825 percent, P(B) = 13.986014 percent, P(C) = 20.979021 percent, P(D) = 23.076923 percent, P(E) = 16.783217 percent\n"
     ]
    }
   ],
   "source": [
    "for i in range(10000):\n",
    "    x = mat@x\n",
    "prob = x\n",
    "print('P(A) = %f percent, P(B) = %f percent, P(C) = %f percent, P(D) = %f percent, P(E) = %f percent' %(prob[0]*100,prob[1]*100,prob[2]*100,prob[3]*100,prob[4]*100))"
   ]
  }
 ],
 "metadata": {
  "kernelspec": {
   "display_name": "Python 3",
   "language": "python",
   "name": "python3"
  },
  "language_info": {
   "codemirror_mode": {
    "name": "ipython",
    "version": 3
   },
   "file_extension": ".py",
   "mimetype": "text/x-python",
   "name": "python",
   "nbconvert_exporter": "python",
   "pygments_lexer": "ipython3",
   "version": "3.6.5"
  }
 },
 "nbformat": 4,
 "nbformat_minor": 2
}
