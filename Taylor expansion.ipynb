{
 "cells": [
  {
   "cell_type": "code",
   "execution_count": 18,
   "metadata": {},
   "outputs": [],
   "source": [
    "from math import factorial\n",
    "import matplotlib.pyplot as plt\n",
    "%matplotlib inline\n",
    "import sympy as sp\n",
    "import numpy as np\n",
    "import math"
   ]
  },
  {
   "cell_type": "code",
   "execution_count": 40,
   "metadata": {},
   "outputs": [
    {
     "name": "stdout",
     "output_type": "stream",
     "text": [
      "sin(x)\n"
     ]
    }
   ],
   "source": [
    "sp.init_printing()\n",
    "x = sp.var(\"x\")\n",
    "#input here\n",
    "f = sp.sin(x)  #function  note for functions use sympy. instead of math.\n",
    "n = 2          #degree\n",
    "xo = 0         #X0\n",
    "xinput = 0.6   \n",
    "print(f)"
   ]
  },
  {
   "cell_type": "code",
   "execution_count": 31,
   "metadata": {},
   "outputs": [],
   "source": [
    "#Do not modify codes below\n",
    "taylor = 0\n",
    "\n",
    "for i in range(n):\n",
    "    taylor += f.diff(x, i).subs(x, xo)/factorial(i) * (x-xo)**i\n",
    "\n",
    "error =  f - taylor"
   ]
  },
  {
   "cell_type": "code",
   "execution_count": 32,
   "metadata": {},
   "outputs": [
    {
     "name": "stdout",
     "output_type": "stream",
     "text": [
      "-1.33333333333333*x**3 + 2.0*x**2 - 2.0*x + 1\n",
      "1.33333333333333*x**3 - 2.0*x**2 + 2.0*x - 1 + 2.71828182845905**(-2*x)\n"
     ]
    }
   ],
   "source": [
    "print (taylor)\n",
    "print (error)"
   ]
  },
  {
   "cell_type": "code",
   "execution_count": 33,
   "metadata": {},
   "outputs": [
    {
     "name": "stdout",
     "output_type": "stream",
     "text": [
      "accurate is 0.367879\n",
      "taylor approximation of degree 4.000000 gives: 0.375000\n",
      "absolute error: 0.007121\n",
      "relative error: 0.019356\n"
     ]
    }
   ],
   "source": [
    "taylor_approx = sum([f.diff(x, i).subs(x, xo)/factorial(i) * (x-xo)**i for i in range(n+1)])   #IMPORTANT HERE: range n+1 for n degree\n",
    "\n",
    "exact_result = f.subs(x,xinput) .evalf()\n",
    "taylor_approx_output = taylor_approx.subs(x,xinput).evalf()\n",
    "absolute_error = abs(exact_result - taylor_approx_output)\n",
    "relative_error = absolute_error / exact_result\n",
    "\n",
    "print('accurate is %f' %exact_result)\n",
    "print('taylor approximation of degree %f gives: %f' %(n,taylor_approx_output))\n",
    "print(\"absolute error: %f\" %absolute_error)\n",
    "print('relative error: %f' %relative_error)"
   ]
  },
  {
   "cell_type": "code",
   "execution_count": null,
   "metadata": {},
   "outputs": [],
   "source": []
  },
  {
   "cell_type": "code",
   "execution_count": null,
   "metadata": {},
   "outputs": [],
   "source": []
  }
 ],
 "metadata": {
  "kernelspec": {
   "display_name": "Python 3",
   "language": "python",
   "name": "python3"
  },
  "language_info": {
   "codemirror_mode": {
    "name": "ipython",
    "version": 3
   },
   "file_extension": ".py",
   "mimetype": "text/x-python",
   "name": "python",
   "nbconvert_exporter": "python",
   "pygments_lexer": "ipython3",
   "version": "3.6.5"
  }
 },
 "nbformat": 4,
 "nbformat_minor": 2
}
