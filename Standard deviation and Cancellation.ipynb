{
 "cells": [
  {
   "cell_type": "code",
   "execution_count": 1,
   "metadata": {},
   "outputs": [],
   "source": [
    "#Problem Credits: Computer Problem 1.12 from “Scientific Computing: An Introductory Survey” by Michael T. Heath"
   ]
  },
  {
   "cell_type": "code",
   "execution_count": 2,
   "metadata": {},
   "outputs": [],
   "source": [
    "#Write a program to compute the mean ¯x and standard deviation σ of a finite sequence xi. \n",
    "#Your program should accept a vector x of dimension n as input and produce the standard deviation of the sequence as output. \n",
    "#For the standard deviation, try both the two-pass formula \n",
    "\n",
    "# σ=[ 1/(n−1) * ∑(i=1) ((xi−x¯)^2) ]^(1/2)\n",
    "\n",
    "#and the one-pass formula\n",
    "\n",
    "# σ=[ 1/(n−1) * ∑(i=1) ((xi^(2) − x¯^(2)) ]^(1/2)\n",
    "\n",
    "#and compare the results for an input sequence of your choice.\n",
    "\n",
    "#Then, devise an input data sequence that dramatically illustrates the numerical difference between these two mathematically equivalent formulas. \n",
    "#(Caution: Beware of taking the square root of a negative number.)"
   ]
  },
  {
   "cell_type": "code",
   "execution_count": 3,
   "metadata": {},
   "outputs": [],
   "source": [
    "#Your code snippet should define the following variables: \n",
    "#Name                  Type                 Description                    \n",
    "#sequence            1D numpy array         first sequence, at least size 10\n",
    "#var_seq_tp       floating point number     result of using the two pass formula on sequence\n",
    "#var_seq_op       floating point number     result of using the one pass formula on sequence\n",
    "#bad_sequence        1D numpy array         sequence that leads to different results, at least size 10"
   ]
  },
  {
   "cell_type": "code",
   "execution_count": 7,
   "metadata": {},
   "outputs": [],
   "source": [
    "import numpy as np\n",
    "import math\n",
    "import statistics"
   ]
  },
  {
   "cell_type": "code",
   "execution_count": 31,
   "metadata": {},
   "outputs": [],
   "source": [
    "sequence = np.array([0,1,2,3,4,5,6,7,8,9,10])"
   ]
  },
  {
   "cell_type": "code",
   "execution_count": 32,
   "metadata": {},
   "outputs": [],
   "source": [
    "bad_sequence = np.array([1e10,1.00000000001e10,1.00000000002e10,1.00000000003e10,1.00000000004e10,1.00000000005e10,1.00000000006e10,1.00000000007e10,1.00000000008e10,1.00000000009e10,1.000000000010e10])\n"
   ]
  },
  {
   "cell_type": "code",
   "execution_count": 42,
   "metadata": {},
   "outputs": [],
   "source": [
    "def std(x,n):\n",
    "    mean = statistics.mean(x)\n",
    "    print (mean)\n",
    "    sum1 = sum([(x[i]-mean)**2 for i in range(0,n)])  #two pass\n",
    "    sum2 = sum([(x[i])**2 for i in range(0,n)])  #one pass\n",
    "    print (sum1)\n",
    "    print (sum2)\n",
    "    sigma_twopass = ( (1/(n-1))*(sum1) )**0.5\n",
    "    sigma_onepass = ( (1/(n-1))*(abs((sum2) - n*(mean**2))) )**0.5\n",
    "    print ('sigma_twopass')\n",
    "    print (sigma_twopass)\n",
    "    print ('((sum2) - n*(mean**2)) = %f' % (abs((sum2) - n*(mean**2))))\n",
    "    print ('sigma_onepass')\n",
    "    print (sigma_onepass)\n",
    "    return (sigma_twopass,sigma_onepass)"
   ]
  },
  {
   "cell_type": "code",
   "execution_count": 44,
   "metadata": {},
   "outputs": [
    {
     "name": "stdout",
     "output_type": "stream",
     "text": [
      "10000000000.418182\n",
      "0.9363626306767401\n",
      "1.1000000000920001e+21\n",
      "sigma_twopass\n",
      "0.30600042984883863\n",
      "((sum2) - n*(mean**2)) = 131072.000000\n",
      "sigma_onepass\n",
      "114.48668044798923\n",
      "10000000000.418182\n",
      "0.9363626306767401\n",
      "1.1000000000920001e+21\n",
      "sigma_twopass\n",
      "0.30600042984883863\n",
      "((sum2) - n*(mean**2)) = 131072.000000\n",
      "sigma_onepass\n",
      "114.48668044798923\n",
      "0.30600042984883863\n",
      "114.48668044798923\n"
     ]
    }
   ],
   "source": [
    "#for bad sequence:\n",
    "std_tp_bad = std(bad_sequence,11)[0]\n",
    "std_op_bad = std(bad_sequence,11)[1]\n",
    "print (std_tp_bad)\n",
    "print (std_op_bad)"
   ]
  },
  {
   "cell_type": "code",
   "execution_count": null,
   "metadata": {},
   "outputs": [],
   "source": []
  }
 ],
 "metadata": {
  "kernelspec": {
   "display_name": "Python 3",
   "language": "python",
   "name": "python3"
  },
  "language_info": {
   "codemirror_mode": {
    "name": "ipython",
    "version": 3
   },
   "file_extension": ".py",
   "mimetype": "text/x-python",
   "name": "python",
   "nbconvert_exporter": "python",
   "pygments_lexer": "ipython3",
   "version": "3.6.5"
  }
 },
 "nbformat": 4,
 "nbformat_minor": 2
}
