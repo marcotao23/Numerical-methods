{
 "cells": [
  {
   "cell_type": "code",
   "execution_count": 5,
   "metadata": {},
   "outputs": [
    {
     "data": {
      "text/plain": [
       "Text(0.5,1,'error vs. sample size')"
      ]
     },
     "execution_count": 5,
     "metadata": {},
     "output_type": "execute_result"
    },
    {
     "data": {
      "image/png": "[encoded data removed]",
      "text/plain": [
       "<Figure size 432x288 with 1 Axes>"
      ]
     },
     "metadata": {},
     "output_type": "display_data"
    }
   ],
   "source": [
    "import random\n",
    "import numpy as np\n",
    "import math\n",
    "import matplotlib.pyplot as plt\n",
    "#xs is given 1-d numpy array random numbers from 0 to 1\n",
    "#ys is given 1-d numpy array random numbers from 0 to 1\n",
    "xs = np.random.rand(1000000,)\n",
    "ys = np.random.rand(1000000,)\n",
    "\n",
    "\n",
    "#part1\n",
    "def calculate_pi (x,y):\n",
    "    #x = np.asarray(x)\n",
    "    #y = np.asarray(y)    #make input to arrays\n",
    "    \n",
    "    if len(x) != len(y):\n",
    "        print (\"x,y not have same length\")\n",
    "    \n",
    "    ns = len(x)   #get numbers of total trials (N square)\n",
    "    nc = 0  #set counter for N circle\n",
    "    \n",
    "    #Monte Carlo \n",
    "    for i in range(0,ns):\n",
    "        if (math.sqrt((x[i])**2 + (y[i])**2) <= 1**2):   #inside the circle\n",
    "            nc += 1\n",
    "    \n",
    "    #Calculate the area of circle = ac given the area of the square is 1\n",
    "    ac = 1*nc/ns\n",
    "    #times 4 get the area of the whole circle \n",
    "    Ac = 4*ac\n",
    "    \n",
    "    return Ac\n",
    "\n",
    "\n",
    "#Part2 trials \n",
    "ns = np.array([1,10,100,1000,10000,100000,1000000])   #example trials\n",
    "p = []   #create an empty array for function output pi\n",
    "\n",
    "for i in range(0,len(ns)):\n",
    "    inputx = xs[:ns[i]]\n",
    "    inputy = ys[:ns[i]]\n",
    "    result = calculate_pi(inputx,inputy)\n",
    "    p.append(result)\n",
    "pi = np.asarray(p)\n",
    "    \n",
    "\n",
    "#Part3  Plot\n",
    "error = math.pi - pi\n",
    "plt.loglog(ns,error,'.')\n",
    "plt.xlabel('sample size')\n",
    "plt.ylabel('error')\n",
    "plt.title('error vs. sample size')"
   ]
  },
  {
   "cell_type": "code",
   "execution_count": null,
   "metadata": {},
   "outputs": [],
   "source": []
  }
 ],
 "metadata": {
  "kernelspec": {
   "display_name": "Python 3",
   "language": "python",
   "name": "python3"
  },
  "language_info": {
   "codemirror_mode": {
    "name": "ipython",
    "version": 3
   },
   "file_extension": ".py",
   "mimetype": "text/x-python",
   "name": "python",
   "nbconvert_exporter": "python",
   "pygments_lexer": "ipython3",
   "version": "3.6.5"
  }
 },
 "nbformat": 4,
 "nbformat_minor": 2
}
